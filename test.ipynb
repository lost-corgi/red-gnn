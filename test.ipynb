{
 "cells": [
  {
   "cell_type": "code",
   "execution_count": 3,
   "metadata": {},
   "outputs": [
    {
     "name": "stderr",
     "output_type": "stream",
     "text": [
      "Using backend: pytorch\n"
     ]
    }
   ],
   "source": [
    "import pickle\n",
    "with open('./datasets/movie_len_hgraph.pkl', 'rb') as f:\n",
    "    dataset = pickle.load(f)"
   ]
  },
  {
   "cell_type": "code",
   "execution_count": 4,
   "metadata": {},
   "outputs": [
    {
     "data": {
      "text/plain": [
       "{'train-graph': Graph(num_nodes={'movie': 3706, 'user': 6040},\n",
       "       num_edges={('movie', 'watched-by', 'user'): 988129, ('user', 'watched', 'movie'): 988129},\n",
       "       metagraph=[('movie', 'user', 'watched-by'), ('user', 'movie', 'watched')]),\n",
       " 'val-matrix': <6040x3706 sparse matrix of type '<class 'numpy.int64'>'\n",
       " \twith 6040 stored elements in COOrdinate format>,\n",
       " 'test-matrix': <6040x3706 sparse matrix of type '<class 'numpy.int64'>'\n",
       " \twith 6040 stored elements in COOrdinate format>,\n",
       " 'item-texts': {'title': array(['Toy Story', 'Jumanji', 'Grumpier Old Men', ..., 'Tigerland',\n",
       "         'Two Family House', 'Contender, The'], dtype=object)},\n",
       " 'item-images': None,\n",
       " 'user-type': 'user',\n",
       " 'item-type': 'movie',\n",
       " 'user-to-item-type': 'watched',\n",
       " 'item-to-user-type': 'watched-by',\n",
       " 'timestamp-edge-column': 'timestamp'}"
      ]
     },
     "execution_count": 4,
     "metadata": {},
     "output_type": "execute_result"
    }
   ],
   "source": [
    "dataset"
   ]
  },
  {
   "cell_type": "code",
   "execution_count": 47,
   "metadata": {},
   "outputs": [
    {
     "name": "stdout",
     "output_type": "stream",
     "text": [
      "Done loading data from cached files.\n"
     ]
    }
   ],
   "source": [
    "import torch as th\n",
    "from dgl.data.rdf import AIFBDataset\n",
    "\n",
    "dataset = AIFBDataset()\n",
    "g = dataset[0]\n",
    "category = dataset.predict_category\n",
    "num_classes = dataset.num_classes\n",
    "test_mask = g.nodes[category].data.pop('test_mask')\n",
    "test_idx = th.nonzero(test_mask, as_tuple=False).squeeze()\n",
    "train_mask = g.nodes[category].data.pop('train_mask')\n",
    "train_idx = th.nonzero(train_mask, as_tuple=False).squeeze()\n",
    "labels = g.nodes[category].data.pop('labels')\n",
    "## no val set in rdf datasets, use test set for testing functionality\n",
    "val_idx = test_idx\n",
    "# Create csr/coo/csc formats before launching sampling processes\n",
    "# This avoids creating certain formats in each data loader process, which saves momory and CPU.\n",
    "g.create_formats_()\n",
    "\n",
    "entity_features = {entity: th.randn(g.nodes(entity).shape[0], 10) for entity in g.ntypes}\n",
    "\n",
    "data = train_idx, val_idx, test_idx, 10, labels, num_classes, entity_features, g, category"
   ]
  },
  {
   "cell_type": "code",
   "execution_count": 8,
   "metadata": {},
   "outputs": [],
   "source": [
    "import pygraphviz as pgv\n",
    "def plot_graph(nxg):\n",
    "    ag = pgv.AGraph(strict=False, directed=True)\n",
    "    for u, v, k in nxg.edges(keys=True):\n",
    "        ag.add_edge(u, v, label=k)\n",
    "    ag.layout('dot')\n",
    "    ag.draw('graph.png')"
   ]
  },
  {
   "cell_type": "code",
   "execution_count": 43,
   "metadata": {},
   "outputs": [
    {
     "data": {
      "text/plain": [
       "{'train_mask': tensor([1, 0, 0, 1, 0, 0, 1, 1, 0, 0, 0, 0, 0, 0, 0, 1, 0, 0, 1, 1, 1, 1, 0, 1,\n",
       "        1, 1, 0, 1, 1, 0, 0, 0, 1, 1, 0, 1, 0, 0, 1, 0, 0, 0, 1, 1, 1, 1, 0, 1,\n",
       "        1, 1, 1, 0, 0, 1, 1, 0, 1, 0, 1, 0, 0, 1, 1, 1, 1, 1, 1, 0, 1, 0, 0, 0,\n",
       "        1, 1, 1, 0, 1, 0, 1, 1, 0, 1, 1, 1, 1, 0, 0, 0, 1, 1, 0, 1, 0, 1, 1, 0,\n",
       "        0, 1, 1, 0, 0, 0, 1, 1, 1, 1, 1, 0, 1, 1, 1, 1, 1, 0, 1, 0, 0, 1, 1, 1,\n",
       "        1, 1, 0, 1, 1, 1, 1, 0, 1, 1, 0, 1, 0, 1, 0, 1, 1, 1, 1, 1, 1, 1, 0, 1,\n",
       "        1, 0, 0, 0, 1, 1, 0, 0, 1, 0, 0, 1, 1, 1, 1, 0, 1, 1, 1, 1, 1, 1, 1, 1,\n",
       "        1, 0, 1, 0, 1, 1, 1, 1, 1, 1, 1, 0, 1, 1, 0, 1, 1, 1, 1, 0, 1, 0, 0, 1,\n",
       "        1, 1, 1, 1, 1, 1, 0, 1, 1, 1, 0, 0, 0, 0, 1, 0, 0, 0, 1, 1, 1, 0, 1, 1,\n",
       "        0, 1, 0, 1, 0, 0, 1, 0, 0, 0, 1, 1, 0, 0, 1, 0, 0, 0, 0, 0, 0],\n",
       "       dtype=torch.uint8), '_ID': tensor([2407, 2403, 1789, 2415, 2428, 2348, 2434, 2210, 4840, 5013, 5028, 5040,\n",
       "        5056, 2033, 5079, 1654, 1656, 1657, 2215, 1658, 1659,  779, 2029,  778,\n",
       "         777,  359,  360,  776,  371, 5212, 2222, 1704, 1765, 2219, 1808, 1797,\n",
       "        5413, 1974, 1978, 1878,  469,  468, 1876,  467, 1874,  466, 2357, 1869,\n",
       "        1864, 1862, 1860, 5408, 2365, 1957, 1953, 1890, 2343, 1896, 1882, 1900,\n",
       "        2333, 2325, 2320, 2312, 1934, 1936, 2301, 2293, 1950, 1880, 2284, 2253,\n",
       "        1858, 1856, 1816, 1814, 1812, 2392, 1810,  644,  645,  398, 2346, 1806,\n",
       "        1804, 2396, 2015, 1802, 1800, 1818, 2388,  414, 1820, 1854, 1852, 2369,\n",
       "        1850, 1848, 1846, 1842, 1794, 2375, 1838, 1834, 1832, 1830, 1828, 5449,\n",
       "        1822, 1840,  465, 1836,  106, 2153,  150,  149,  148,  147,    8,  144,\n",
       "         143,    9,  142,    6,   39,  136,   40,   41,   42,  135,   43,    7,\n",
       "        2104,   38, 2156,  197,   34,  196,  195,   35,  194,   36, 2091,  186,\n",
       "          10, 2163,  183,  180,   37,  174,    5,  167,  166, 2100,   44,  134,\n",
       "         133,  130,   92,   67,   68,   69,   91,   90,   89,   70,   88,   71,\n",
       "          72, 2120,   84,   73,   83,   82,   74,   75,   76,   93,  198,   94,\n",
       "          63,  129,   45,  126,  125,   46,   47,  116,   48,  115, 2124,   54,\n",
       "          55,   56, 2142,  103,   57,  100, 2136,   62,   95,   21, 2138, 2069,\n",
       "         220, 2198,  303,  267, 2127, 2062,   18,   19,  219, 2194,  289,  288,\n",
       "        2065,  287, 2186,  234, 2075, 2177,  223, 2049, 2173, 2183,  266,   20,\n",
       "        2169, 2204,   11, 2202, 2087, 2039,  201, 2047, 2082])}"
      ]
     },
     "execution_count": 43,
     "metadata": {},
     "output_type": "execute_result"
    }
   ],
   "source": [
    "g.nodes[category].data"
   ]
  },
  {
   "cell_type": "code",
   "execution_count": 44,
   "metadata": {},
   "outputs": [],
   "source": [
    "train_mask = g.nodes[category].data.pop('train_mask')\n",
    "train_idx = torch.nonzero(train_mask, as_tuple=False).squeeze()"
   ]
  },
  {
   "cell_type": "code",
   "execution_count": 55,
   "metadata": {},
   "outputs": [
    {
     "data": {
      "text/plain": [
       "tensor(2)"
      ]
     },
     "execution_count": 55,
     "metadata": {},
     "output_type": "execute_result"
    }
   ],
   "source": [
    "labels[26]"
   ]
  },
  {
   "cell_type": "code",
   "execution_count": 58,
   "metadata": {},
   "outputs": [
    {
     "data": {
      "text/plain": [
       "torch.Size([36])"
      ]
     },
     "execution_count": 58,
     "metadata": {},
     "output_type": "execute_result"
    }
   ],
   "source": [
    "test_idx.shape"
   ]
  },
  {
   "cell_type": "code",
   "execution_count": 78,
   "metadata": {},
   "outputs": [],
   "source": [
    "import dgl\n",
    "g = dgl.graph(([0, 1, 2, 3, 4], [1, 2, 3, 4, 0]))\n",
    "g.ndata['f'] = torch.randn(5,5)"
   ]
  },
  {
   "cell_type": "code",
   "execution_count": 84,
   "metadata": {},
   "outputs": [],
   "source": [
    "g = dgl.heterograph({\n",
    "    ('user', 'plays', 'game'): ([0, 1, 1, 2], [0, 0, 2, 1]),\n",
    "    ('user', 'follows', 'user'): ([0, 1, 1], [1, 2, 2])})"
   ]
  },
  {
   "cell_type": "code",
   "execution_count": 85,
   "metadata": {},
   "outputs": [
    {
     "data": {
      "text/plain": [
       "Graph(num_nodes={'game': 3, 'user': 3},\n",
       "      num_edges={('user', 'follows', 'user'): 3, ('user', 'plays', 'game'): 4},\n",
       "      metagraph=[('user', 'user', 'follows'), ('user', 'game', 'plays')])"
      ]
     },
     "execution_count": 85,
     "metadata": {},
     "output_type": "execute_result"
    }
   ],
   "source": [
    "games"
   ]
  },
  {
   "cell_type": "code",
   "execution_count": 147,
   "metadata": {},
   "outputs": [],
   "source": [
    "g = dgl.heterograph({\n",
    "    ('user', 'plays', 'game'): ([0, 1, 1, 2], [0, 0, 2, 1]),\n",
    "    ('game', 'follows', 'user'): ([0, 0, 2, 1], [0, 1, 1, 2])})"
   ]
  },
  {
   "cell_type": "code",
   "execution_count": 153,
   "metadata": {},
   "outputs": [],
   "source": [
    "g.nodes['user'].data['f'] = torch.rand(3,3)"
   ]
  },
  {
   "cell_type": "code",
   "execution_count": 161,
   "metadata": {},
   "outputs": [
    {
     "data": {
      "text/plain": [
       "NodeSpace(data={'f': tensor([[0.5194, 0.4924, 0.2069]]), '_ID': tensor([1])})"
      ]
     },
     "execution_count": 161,
     "metadata": {},
     "output_type": "execute_result"
    }
   ],
   "source": [
    "sg.nodes['user']"
   ]
  },
  {
   "cell_type": "code",
   "execution_count": 160,
   "metadata": {},
   "outputs": [],
   "source": [
    "sg = dgl.node_subgraph(g, {'user': [1]})"
   ]
  },
  {
   "cell_type": "code",
   "execution_count": 130,
   "metadata": {},
   "outputs": [],
   "source": [
    "del g"
   ]
  },
  {
   "cell_type": "code",
   "execution_count": 131,
   "metadata": {},
   "outputs": [
    {
     "data": {
      "text/plain": [
       "Graph(num_nodes={'game': 3, 'user': 3},\n",
       "      num_edges={('game', 'follows', 'user'): 2, ('user', 'plays', 'game'): 0},\n",
       "      metagraph=[('game', 'user', 'follows'), ('user', 'game', 'plays')])"
      ]
     },
     "execution_count": 131,
     "metadata": {},
     "output_type": "execute_result"
    }
   ],
   "source": [
    "sg.nodes"
   ]
  },
  {
   "cell_type": "code",
   "execution_count": 127,
   "metadata": {},
   "outputs": [
    {
     "data": {
      "text/plain": [
       "<bound method DGLHeteroGraph.edge_ids of Graph(num_nodes={'game': 3, 'user': 3},\n",
       "      num_edges={('game', 'follows', 'user'): 0, ('user', 'plays', 'game'): 3},\n",
       "      metagraph=[('game', 'user', 'follows'), ('user', 'game', 'plays')])>"
      ]
     },
     "execution_count": 127,
     "metadata": {},
     "output_type": "execute_result"
    }
   ],
   "source": [
    "sg.edge_ids"
   ]
  },
  {
   "cell_type": "code",
   "execution_count": 111,
   "metadata": {},
   "outputs": [
    {
     "data": {
      "text/plain": [
       "Graph(num_nodes={'game': 3, 'user': 3},\n",
       "      num_edges={('game', 'follows', 'user'): 0, ('user', 'plays', 'game'): 1},\n",
       "      metagraph=[('game', 'user', 'follows'), ('user', 'game', 'plays')])"
      ]
     },
     "execution_count": 111,
     "metadata": {},
     "output_type": "execute_result"
    }
   ],
   "source": [
    "sg"
   ]
  },
  {
   "cell_type": "code",
   "execution_count": 96,
   "metadata": {},
   "outputs": [],
   "source": [
    "val_num, test_num = 1, 1"
   ]
  },
  {
   "cell_type": "code",
   "execution_count": 97,
   "metadata": {},
   "outputs": [],
   "source": [
    "train_idx, val_idx, test_idx = l[val_num + test_num:], l[:val_num], l[val_num:val_num + test_num]"
   ]
  },
  {
   "cell_type": "code",
   "execution_count": 68,
   "metadata": {},
   "outputs": [],
   "source": [
    "import numpy as np\n",
    "sg = dgl.node_subgraph(g, np.array([4, 1, 0]))"
   ]
  },
  {
   "cell_type": "code",
   "execution_count": 69,
   "metadata": {},
   "outputs": [
    {
     "data": {
      "text/plain": [
       "(tensor([0, 2]), tensor([2, 1]))"
      ]
     },
     "execution_count": 69,
     "metadata": {},
     "output_type": "execute_result"
    }
   ],
   "source": [
    "sg.edges()"
   ]
  },
  {
   "cell_type": "code",
   "execution_count": 77,
   "metadata": {},
   "outputs": [
    {
     "data": {
      "text/plain": [
       "tensor([4, 1, 0])"
      ]
     },
     "execution_count": 77,
     "metadata": {},
     "output_type": "execute_result"
    }
   ],
   "source": [
    "sg.ndata[dgl.NID]"
   ]
  },
  {
   "cell_type": "code",
   "execution_count": 72,
   "metadata": {},
   "outputs": [
    {
     "data": {
      "text/plain": [
       "array([[ 0.3850421 ,  0.22674189, -1.84741352,  0.22137193,  1.52183595],\n",
       "       [-0.95763255, -0.88976565,  0.78320824, -0.31951919, -0.58197541],\n",
       "       [ 1.23197162,  0.90226999,  0.93500434,  1.51011346, -0.11568565],\n",
       "       [-0.58628424, -0.91292631,  1.40483205,  0.00529038, -2.54419217]])"
      ]
     },
     "execution_count": 72,
     "metadata": {},
     "output_type": "execute_result"
    }
   ],
   "source": [
    "uf"
   ]
  },
  {
   "cell_type": "code",
   "execution_count": 178,
   "metadata": {},
   "outputs": [],
   "source": [
    "import torch.nn.functional as F\n",
    "\n",
    "def load_subtensor(nfeats, labels, seeds, input_nodes, label_type, is_pad):\n",
    "    if is_pad:\n",
    "        batch_inputs = {}\n",
    "        for k, v in nfeats.items():\n",
    "            if k is 'user':\n",
    "                batch_inputs[k] = F.pad(v[input_nodes[k]], (0, 4))\n",
    "            else:\n",
    "                batch_inputs[k] = F.pad(v[input_nodes[k]], (84, 0))\n",
    "    else:\n",
    "        batch_inputs = {k: v[input_nodes[k]] for k, v in nfeats.items()}\n",
    "    batch_labels = labels[seeds[label_type]]\n",
    "    return batch_inputs, batch_labels"
   ]
  },
  {
   "cell_type": "code",
   "execution_count": 166,
   "metadata": {},
   "outputs": [],
   "source": [
    "user_f = torch.rand(5, 84)"
   ]
  },
  {
   "cell_type": "code",
   "execution_count": 168,
   "metadata": {},
   "outputs": [],
   "source": [
    "device_f = torch.rand(10, 4)"
   ]
  },
  {
   "cell_type": "code",
   "execution_count": 169,
   "metadata": {},
   "outputs": [],
   "source": [
    "nfeats = {'user': user_f, 'device': device_f}"
   ]
  },
  {
   "cell_type": "code",
   "execution_count": 170,
   "metadata": {},
   "outputs": [],
   "source": [
    "input_nodes = {'user': [3, 2], 'device': [2]}\n",
    "seeds = {'user': [0]}"
   ]
  },
  {
   "cell_type": "code",
   "execution_count": 173,
   "metadata": {},
   "outputs": [],
   "source": [
    "labels = torch.rand(5)"
   ]
  },
  {
   "cell_type": "code",
   "execution_count": 175,
   "metadata": {},
   "outputs": [
    {
     "data": {
      "text/plain": [
       "tensor([0.0044, 0.4891, 0.9182, 0.7458, 0.3784])"
      ]
     },
     "execution_count": 175,
     "metadata": {},
     "output_type": "execute_result"
    }
   ],
   "source": [
    "labels"
   ]
  },
  {
   "cell_type": "code",
   "execution_count": 179,
   "metadata": {},
   "outputs": [
    {
     "name": "stdout",
     "output_type": "stream",
     "text": [
      "({'user': tensor([[3.3247e-01, 5.6562e-01, 4.1759e-01, 4.8633e-01, 4.8842e-01, 1.4187e-01,\n",
      "         4.8180e-01, 6.4857e-01, 3.9812e-01, 4.7318e-01, 6.5893e-01, 5.2233e-01,\n",
      "         9.7249e-01, 9.0417e-01, 8.7274e-01, 6.0203e-01, 9.2536e-04, 5.3350e-01,\n",
      "         9.6606e-02, 6.8013e-01, 7.0631e-01, 4.1007e-01, 7.7959e-01, 4.4473e-01,\n",
      "         7.9879e-01, 5.2771e-01, 9.8046e-01, 9.7452e-01, 1.1004e-01, 6.4392e-01,\n",
      "         7.7666e-01, 3.6995e-02, 7.1267e-02, 1.0936e-01, 5.9152e-01, 1.8647e-01,\n",
      "         1.0428e-01, 9.2030e-01, 5.6310e-01, 2.8014e-01, 4.8588e-01, 6.5741e-01,\n",
      "         1.4552e-01, 8.1302e-01, 9.9985e-01, 3.4387e-03, 7.3648e-01, 5.9250e-01,\n",
      "         2.4703e-01, 8.8805e-01, 1.8916e-02, 9.2397e-01, 1.1219e-01, 7.1373e-01,\n",
      "         3.7820e-01, 7.4070e-01, 7.8297e-01, 2.4294e-01, 1.5599e-01, 1.2721e-01,\n",
      "         4.6410e-01, 3.6537e-01, 1.5090e-01, 9.5476e-01, 5.5737e-01, 9.0792e-01,\n",
      "         5.0263e-01, 4.5643e-02, 8.0699e-01, 2.4443e-01, 4.9102e-01, 3.3647e-01,\n",
      "         7.0062e-01, 7.4529e-01, 2.4424e-01, 1.3493e-02, 9.9587e-01, 8.6839e-01,\n",
      "         6.0888e-01, 2.1819e-01, 3.4354e-01, 1.0547e-01, 7.1504e-01, 6.7122e-01,\n",
      "         0.0000e+00, 0.0000e+00, 0.0000e+00, 0.0000e+00],\n",
      "        [7.3765e-01, 6.6983e-01, 9.2480e-01, 5.9357e-02, 4.4842e-02, 5.8860e-01,\n",
      "         7.7422e-01, 1.2769e-01, 8.3828e-01, 4.3863e-01, 9.4063e-01, 8.5770e-01,\n",
      "         3.8006e-01, 6.3580e-01, 8.7187e-01, 3.7902e-01, 2.5117e-02, 9.2398e-01,\n",
      "         6.7404e-01, 3.3539e-01, 7.1421e-01, 9.7115e-01, 6.4709e-01, 4.8118e-01,\n",
      "         1.4900e-02, 3.4583e-01, 1.2656e-01, 1.0250e-01, 7.0228e-01, 6.7272e-01,\n",
      "         7.6923e-01, 6.2332e-01, 8.1468e-01, 6.2686e-01, 8.4518e-01, 6.9820e-01,\n",
      "         8.7433e-01, 3.9154e-01, 5.6199e-01, 1.7131e-01, 5.9533e-01, 8.8183e-01,\n",
      "         5.7525e-01, 4.8672e-01, 8.7777e-01, 6.5780e-01, 1.6695e-01, 3.5206e-01,\n",
      "         7.8569e-01, 3.9886e-01, 3.2989e-01, 9.3456e-01, 9.7304e-01, 9.8915e-01,\n",
      "         1.6030e-01, 8.4967e-01, 3.2414e-01, 8.0211e-01, 1.3360e-02, 4.0083e-02,\n",
      "         3.2314e-01, 3.3193e-01, 6.4072e-01, 7.8855e-01, 9.6699e-01, 6.4199e-01,\n",
      "         6.2094e-01, 2.8136e-01, 2.5017e-01, 9.9588e-01, 1.6331e-01, 2.7480e-01,\n",
      "         2.1078e-02, 2.3758e-01, 4.9424e-01, 3.5362e-01, 7.1765e-01, 3.8941e-01,\n",
      "         5.2578e-01, 4.6358e-01, 3.3930e-01, 8.2519e-01, 4.8392e-01, 6.2817e-01,\n",
      "         0.0000e+00, 0.0000e+00, 0.0000e+00, 0.0000e+00]]), 'device': tensor([[0.0000, 0.0000, 0.0000, 0.0000, 0.0000, 0.0000, 0.0000, 0.0000, 0.0000,\n",
      "         0.0000, 0.0000, 0.0000, 0.0000, 0.0000, 0.0000, 0.0000, 0.0000, 0.0000,\n",
      "         0.0000, 0.0000, 0.0000, 0.0000, 0.0000, 0.0000, 0.0000, 0.0000, 0.0000,\n",
      "         0.0000, 0.0000, 0.0000, 0.0000, 0.0000, 0.0000, 0.0000, 0.0000, 0.0000,\n",
      "         0.0000, 0.0000, 0.0000, 0.0000, 0.0000, 0.0000, 0.0000, 0.0000, 0.0000,\n",
      "         0.0000, 0.0000, 0.0000, 0.0000, 0.0000, 0.0000, 0.0000, 0.0000, 0.0000,\n",
      "         0.0000, 0.0000, 0.0000, 0.0000, 0.0000, 0.0000, 0.0000, 0.0000, 0.0000,\n",
      "         0.0000, 0.0000, 0.0000, 0.0000, 0.0000, 0.0000, 0.0000, 0.0000, 0.0000,\n",
      "         0.0000, 0.0000, 0.0000, 0.0000, 0.0000, 0.0000, 0.0000, 0.0000, 0.0000,\n",
      "         0.0000, 0.0000, 0.0000, 0.8386, 0.1066, 0.1351, 0.8378]])}, tensor([0.0044]))\n"
     ]
    }
   ],
   "source": [
    "print(load_subtensor(nfeats, labels, seeds, input_nodes, 'user', True))"
   ]
  },
  {
   "cell_type": "code",
   "execution_count": null,
   "metadata": {},
   "outputs": [],
   "source": []
  }
 ],
 "metadata": {
  "kernelspec": {
   "display_name": "Python 3",
   "language": "python",
   "name": "python3"
  },
  "language_info": {
   "codemirror_mode": {
    "name": "ipython",
    "version": 3
   },
   "file_extension": ".py",
   "mimetype": "text/x-python",
   "name": "python",
   "nbconvert_exporter": "python",
   "pygments_lexer": "ipython3",
   "version": "3.6.12"
  }
 },
 "nbformat": 4,
 "nbformat_minor": 4
}
